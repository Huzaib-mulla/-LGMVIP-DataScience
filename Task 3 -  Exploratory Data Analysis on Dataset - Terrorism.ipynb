{
 "cells": [
  {
   "cell_type": "markdown",
   "metadata": {},
   "source": [
    "# Author: Huzaib Mujeeb Mulla\n",
    "\n",
    "## Let's Grow More - VIP Internship\n",
    "\n",
    "## Task 3 -  Exploratory Data Analysis on Dataset - Terrorism\n",
    "\n",
    "##### Description --\n",
    "**As a security/defense analyst, try to find out the hot zone of terrorism.**\n",
    "\n",
    "\n",
    "**Dataset:** https://bit.ly/2TK5Xn5"
   ]
  },
  {
   "cell_type": "code",
   "execution_count": null,
   "metadata": {},
   "outputs": [],
   "source": []
  }
 ],
 "metadata": {
  "kernelspec": {
   "display_name": "Python 3",
   "language": "python",
   "name": "python3"
  },
  "language_info": {
   "codemirror_mode": {
    "name": "ipython",
    "version": 3
   },
   "file_extension": ".py",
   "mimetype": "text/x-python",
   "name": "python",
   "nbconvert_exporter": "python",
   "pygments_lexer": "ipython3",
   "version": "3.8.3"
  }
 },
 "nbformat": 4,
 "nbformat_minor": 4
}
